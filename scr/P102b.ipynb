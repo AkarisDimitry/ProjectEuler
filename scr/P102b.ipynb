{
  "nbformat": 4,
  "nbformat_minor": 0,
  "metadata": {
    "colab": {
      "provenance": [],
      "authorship_tag": "ABX9TyOellmolpwVYd6nzEthLgwA",
      "include_colab_link": true
    },
    "kernelspec": {
      "name": "python3",
      "display_name": "Python 3"
    },
    "language_info": {
      "name": "python"
    }
  },
  "cells": [
    {
      "cell_type": "markdown",
      "metadata": {
        "id": "view-in-github",
        "colab_type": "text"
      },
      "source": [
        "<a href=\"https://colab.research.google.com/github/AkarisDimitry/ProjectEuler/blob/main/P102b.ipynb\" target=\"_parent\"><img src=\"https://colab.research.google.com/assets/colab-badge.svg\" alt=\"Open In Colab\"/></a>"
      ]
    },
    {
      "cell_type": "markdown",
      "source": [
        "# Verificación de la ubicación del origen en relación a un triángulo\n",
        "\n",
        "Este notebook presenta un método para verificar si el origen (0,0) está dentro de un triángulo definido por tres puntos arbitrarios en un plano cartesiano. \n",
        "\n",
        "## Método de las áreas de los triángulos\n",
        "\n",
        "El método que utilizamos se basa en la comparación de las áreas de los triángulos. La idea es que si un punto está dentro de un triángulo, entonces la suma de las áreas de los tres triángulos formados por el punto y cada par de puntos del triángulo original será igual al área del triángulo original.\n",
        "\n",
        "Para un triángulo definido por tres puntos \\(p1 = (x1, y1)\\), \\(p2 = (x2, y2)\\) y \\(p3 = (x3, y3)\\), el área del triángulo se puede calcular utilizando la siguiente fórmula:\n",
        "\n",
        "\\[\n",
        "Area = \\frac{1}{2} |x1(y2 - y3) + x2(y3 - y1) + x3(y1 - y2)|\n",
        "\\]\n",
        "\n",
        "Si el origen está dentro del triángulo, entonces el área del triángulo original será igual a la suma de las áreas de los tres triángulos formados por el origen y cada par de puntos del triángulo original.\n",
        "\n",
        "## Implementación en Python\n",
        "\n",
        "Hemos implementado este método en Python utilizando la biblioteca NumPy para las operaciones matemáticas. El código lee las coordenadas de los triángulos de un archivo de texto, verifica si el origen está dentro de cada triángulo y cuenta el número total de triángulos que contienen el origen.\n"
      ],
      "metadata": {
        "id": "o0OMXwVXZOpZ"
      }
    },
    {
      "cell_type": "code",
      "source": [
        "import numpy as np\n",
        "\n",
        "def area_of_triangle(p1, p2, p3):\n",
        "    \"\"\"\n",
        "    Calcula el área de un triángulo dado por tres puntos.\n",
        "    \"\"\"\n",
        "    return abs(p1[0]*(p2[1]-p3[1]) + p2[0]*(p3[1]-p1[1]) + p3[0]*(p1[1]-p2[1])) / 2.0\n",
        "\n",
        "def is_origin_inside_triangle(p1, p2, p3):\n",
        "    \"\"\"\n",
        "    Verifica si el origen está dentro del triángulo formado por los puntos p1, p2 y p3.\n",
        "    \"\"\"\n",
        "    # Calcula el área del triángulo original\n",
        "    area_of_orig_triangle = area_of_triangle(p1, p2, p3)\n",
        "\n",
        "    # Calcula las áreas de los tres triángulos formados por el origen y cada par de puntos del triángulo original\n",
        "    area1 = area_of_triangle([0,0], p2, p3)\n",
        "    area2 = area_of_triangle(p1, [0,0], p3)\n",
        "    area3 = area_of_triangle(p1, p2, [0,0])\n",
        "\n",
        "    # Si la suma de las áreas de los tres triángulos es igual al área del triángulo original, entonces el origen está dentro del triángulo\n",
        "    return area_of_orig_triangle == area1 + area2 + area3\n",
        "\n",
        "def count_triangles_with_origin_inside(filename):\n",
        "    \"\"\"\n",
        "    Cuenta el número de triángulos en el archivo dado cuyo interior contiene el origen.\n",
        "    \"\"\"\n",
        "    count = 0\n",
        "\n",
        "    with open(filename, 'r') as f:\n",
        "        for line in f:\n",
        "            # Convierte la línea en una lista de enteros\n",
        "            points = list(map(int, line.strip().split(',')))\n",
        "\n",
        "            # Crea los puntos del triángulo\n",
        "            p1 = [points[0], points[1]]\n",
        "            p2 = [points[2], points[3]]\n",
        "            p3 = [points[4], points[5]]\n",
        "\n",
        "            # Verifica si el origen está dentro del triángulo\n",
        "            if is_origin_inside_triangle(p1, p2, p3):\n",
        "                count += 1\n",
        "\n",
        "    return count\n",
        "\n",
        "# Ejemplo de uso:\n",
        "print(count_triangles_with_origin_inside('triangles.txt'))\n"
      ],
      "metadata": {
        "id": "tQueV93DZSAC"
      },
      "execution_count": null,
      "outputs": []
    }
  ]
}